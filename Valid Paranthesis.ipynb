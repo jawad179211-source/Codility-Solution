{
 "cells": [
  {
   "cell_type": "code",
   "execution_count": null,
   "id": "8e25b6e9",
   "metadata": {},
   "outputs": [],
   "source": [
    "# this code for leetcode\n",
    "class Solution:\n",
    "    def isValid(self, s: str) -> bool:\n",
    "        stack = []\n",
    "        mapping = {')': '(', '}': '{', ']': '['}\n",
    "        \n",
    "        for char in s:\n",
    "            if char in mapping:\n",
    "                top = stack.pop() if stack else '#'\n",
    "\n",
    "                if mapping[char] != top:\n",
    "                    return False\n",
    "            else:\n",
    "                stack.append(char)\n",
    "        return not stack\n"
   ]
  },
  {
   "cell_type": "code",
   "execution_count": null,
   "id": "5df8c471",
   "metadata": {},
   "outputs": [
    {
     "name": "stdout",
     "output_type": "stream",
     "text": [
      "() → True\n",
      "()[]{} → True\n",
      "(] → False\n",
      "([]) → True\n",
      "([)] → False\n",
      "] → False\n"
     ]
    }
   ],
   "source": [
    "#  Valid Parentheses Checker (works same as LeetCode)\n",
    "\n",
    "class Solution:\n",
    "    def isValid(self, s: str) -> bool:\n",
    "        stack = []\n",
    "        mapping = {')': '(', '}': '{', ']': '['}\n",
    "        \n",
    "        for char in s:\n",
    "            if char in mapping:\n",
    "                top = stack.pop() if stack else '#'\n",
    "                if mapping[char] != top:\n",
    "                    return False\n",
    "            else:\n",
    "                stack.append(char)\n",
    "        return not stack\n",
    "\n",
    "\n",
    "#  Test the function manually below:\n",
    "s = Solution()\n",
    "\n",
    "# Add some test cases:\n",
    "print(\"() →\", s.isValid(\"()\"))\n",
    "print(\"()[]{} →\", s.isValid(\"()[]{}\"))\n",
    "print(\"(] →\", s.isValid(\"(]\"))\n",
    "print(\"([]) →\", s.isValid(\"([])\"))\n",
    "print(\"([)] →\", s.isValid(\"([)]\"))\n",
    "print(\"] →\", s.isValid(\"]\"))\n"
   ]
  }
 ],
 "metadata": {
  "kernelspec": {
   "display_name": "Python 3",
   "language": "python",
   "name": "python3"
  },
  "language_info": {
   "codemirror_mode": {
    "name": "ipython",
    "version": 3
   },
   "file_extension": ".py",
   "mimetype": "text/x-python",
   "name": "python",
   "nbconvert_exporter": "python",
   "pygments_lexer": "ipython3",
   "version": "3.12.6"
  }
 },
 "nbformat": 4,
 "nbformat_minor": 5
}
